{
 "cells": [
  {
   "cell_type": "code",
   "execution_count": 20,
   "metadata": {},
   "outputs": [],
   "source": [
    "from pathlib import Path\n",
    "from glob import glob\n",
    "import pandas as pd\n",
    "import numpy as np\n",
    "\n",
    "from alternationprober.constants import (\n",
    "    PATH_TO_RESULTS_DIRECTORY,\n",
    ")\n",
    "\n",
    "import seaborn as sns\n",
    "import matplotlib.pyplot as plt"
   ]
  },
  {
   "cell_type": "code",
   "execution_count": 21,
   "metadata": {},
   "outputs": [],
   "source": [
    "def sorting_key(layer_path):\n",
    "    \"\"\"Sort the result paths by the final directory, where ``static`` corresponds to layer 0.\"\"\"\n",
    "    if layer_path.stem == \"static\":\n",
    "        key = 0\n",
    "    else:\n",
    "        key = int(layer_path.stem)\n",
    "    return key\n",
    "\n",
    "experiment_results = PATH_TO_RESULTS_DIRECTORY / \"linear-probe-for-word-embeddings\"\n",
    "\n",
    "layer_paths = experiment_results.glob(\"*/\")\n",
    "layer_paths = sorted([path for path in layer_paths if path.is_dir()], key=sorting_key)\n",
    "layer_dfs = []\n",
    "for i, layer_path in enumerate(layer_paths):\n",
    "    for alternation_csv in layer_path.glob(\"*.csv\"):\n",
    "        if 'predictions' in str(alternation_csv):\n",
    "            frame = alternation_csv.stem.split('_')[0]\n",
    "            layer_df = pd.read_csv(alternation_csv)\n",
    "            layer_df['layer'] = i\n",
    "            layer_df['frame'] = frame\n",
    "            layer_df = layer_df.rename(columns={f'{frame}_true': 'label', f'{frame}_predicted': 'predicted'})\n",
    "            layer_dfs.append(layer_df)\n",
    "all_df = pd.concat(layer_dfs, axis=0).sort_values(by=['layer', 'frame'])"
   ]
  },
  {
   "cell_type": "code",
   "execution_count": 23,
   "metadata": {},
   "outputs": [
    {
     "name": "stdout",
     "output_type": "stream",
     "text": [
      "(3393, 4)\n"
     ]
    },
    {
     "data": {
      "text/html": [
       "<div>\n",
       "<style scoped>\n",
       "    .dataframe tbody tr th:only-of-type {\n",
       "        vertical-align: middle;\n",
       "    }\n",
       "\n",
       "    .dataframe tbody tr th {\n",
       "        vertical-align: top;\n",
       "    }\n",
       "\n",
       "    .dataframe thead th {\n",
       "        text-align: right;\n",
       "    }\n",
       "</style>\n",
       "<table border=\"1\" class=\"dataframe\">\n",
       "  <thead>\n",
       "    <tr style=\"text-align: right;\">\n",
       "      <th></th>\n",
       "      <th>prop_error</th>\n",
       "    </tr>\n",
       "    <tr>\n",
       "      <th>frame</th>\n",
       "      <th></th>\n",
       "    </tr>\n",
       "  </thead>\n",
       "  <tbody>\n",
       "    <tr>\n",
       "      <th>Refl</th>\n",
       "      <td>0.250000</td>\n",
       "    </tr>\n",
       "    <tr>\n",
       "      <th>inchoative</th>\n",
       "      <td>0.159091</td>\n",
       "    </tr>\n",
       "    <tr>\n",
       "      <th>preposition</th>\n",
       "      <td>0.159091</td>\n",
       "    </tr>\n",
       "    <tr>\n",
       "      <th>2object</th>\n",
       "      <td>0.113636</td>\n",
       "    </tr>\n",
       "    <tr>\n",
       "      <th>locative</th>\n",
       "      <td>0.113636</td>\n",
       "    </tr>\n",
       "    <tr>\n",
       "      <th>with</th>\n",
       "      <td>0.113636</td>\n",
       "    </tr>\n",
       "    <tr>\n",
       "      <th>Non-Refl</th>\n",
       "      <td>0.045455</td>\n",
       "    </tr>\n",
       "    <tr>\n",
       "      <th>There</th>\n",
       "      <td>0.045455</td>\n",
       "    </tr>\n",
       "  </tbody>\n",
       "</table>\n",
       "</div>"
      ],
      "text/plain": [
       "             prop_error\n",
       "frame                  \n",
       "Refl           0.250000\n",
       "inchoative     0.159091\n",
       "preposition    0.159091\n",
       "2object        0.113636\n",
       "locative       0.113636\n",
       "with           0.113636\n",
       "Non-Refl       0.045455\n",
       "There          0.045455"
      ]
     },
     "execution_count": 23,
     "metadata": {},
     "output_type": "execute_result"
    }
   ],
   "source": [
    "# Best layer is based on average MCC across all frames\n",
    "best_layer = 7\n",
    "best_layer_df = all_df[all_df.layer == best_layer]\n",
    "best_layer_df = best_layer_df[['verb', 'label', 'predicted', 'frame']]\n",
    "\n",
    "print(best_layer_df.shape)\n",
    "\n",
    "error_df = best_layer_df[best_layer_df.predicted != best_layer_df.label]\n",
    "error_df = error_df.sort_values('frame')\n",
    "\n",
    "error_dist = error_df[['frame']].value_counts(normalize=True).to_frame()\n",
    "error_dist.columns = ['prop_error']\n",
    "error_dist"
   ]
  },
  {
   "cell_type": "code",
   "execution_count": 124,
   "metadata": {},
   "outputs": [
    {
     "name": "stdout",
     "output_type": "stream",
     "text": [
      "\\begin{tabular}{lrrrrrrrrrr}\n",
      "\\toprule\n",
      "{} &  Inch. &  Caus. &  Prep. &  2-Obj &  with &  loc. &  no-there &  there &  Refl &  No-Refl \\\\\n",
      "\\midrule\n",
      "Positive &     73 &    124 &     65 &     74 &   101 &    86 &       149 &     50 &    84 &       11 \\\\\n",
      "Negative &    144 &      0 &    377 &    442 &   242 &   257 &         0 &    192 &   419 &      503 \\\\\n",
      "Total    &    217 &    124 &    442 &    516 &   343 &   343 &       149 &    242 &   503 &      514 \\\\\n",
      "\\bottomrule\n",
      "\\end{tabular}\n",
      "\n"
     ]
    }
   ],
   "source": [
    "frame_counts = best_layer_df.groupby('frame')[['label']].sum()\n",
    "frame_counts['negative'] = best_layer_df.frame.value_counts() - frame_counts['label']\n",
    "frame_counts.columns = ['positive', 'negative']\n",
    "frame_counts = frame_counts.astype(int)\n",
    "frame_counts['total'] = frame_counts.sum(axis=1)\n",
    "frame_counts = frame_counts.T.reset_index(drop=False)\n",
    "frame_counts = frame_counts[['inchoative', 'causative', 'preposition', '2object',\n",
    "    'with', 'locative', 'No-There', 'There', 'Refl', 'Non-Refl']]\n",
    "frame_counts.columns = ['Inch.', 'Caus.', 'Prep.', '2-Obj',\n",
    "    'with', 'loc.', 'no-there', 'there', 'Refl', 'No-Refl']\n",
    "frame_counts.index = ['Positive', 'Negative', 'Total']\n",
    "print(frame_counts.to_latex())"
   ]
  }
 ],
 "metadata": {
  "interpreter": {
   "hash": "e494e532438ff838811626b00e7875b31c54814775bb1ff657520b2b9ee00627"
  },
  "kernelspec": {
   "display_name": "Python 3.9.12 ('575nn')",
   "language": "python",
   "name": "python3"
  },
  "language_info": {
   "codemirror_mode": {
    "name": "ipython",
    "version": 3
   },
   "file_extension": ".py",
   "mimetype": "text/x-python",
   "name": "python",
   "nbconvert_exporter": "python",
   "pygments_lexer": "ipython3",
   "version": "3.9.12"
  },
  "orig_nbformat": 4
 },
 "nbformat": 4,
 "nbformat_minor": 2
}
