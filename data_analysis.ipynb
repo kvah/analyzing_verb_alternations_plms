{
 "cells": [
  {
   "cell_type": "markdown",
   "metadata": {
    "collapsed": false,
    "pycharm": {
     "name": "#%% md\n"
    }
   },
   "source": [
    "This script is used to separate the LAVA into five sub_classes. In the subfile, only the verbs without \"x\" in these corresponding columns will be kept.\n",
    "\n",
    "Usage: run the whole notebook, the subfiles will be saved to ./data/lava directory, also can get a sense of data distribution."
   ]
  },
  {
   "cell_type": "code",
   "execution_count": 13,
   "metadata": {},
   "outputs": [],
   "source": [
    "import pandas as pd\n",
    "lava_path = \"./data/lava/all_verbs.csv\"\n",
    "alternation = pd.read_csv(lava_path, index_col='verb')"
   ]
  },
  {
   "cell_type": "code",
   "execution_count": 14,
   "metadata": {
    "pycharm": {
     "name": "#%%\n"
    }
   },
   "outputs": [
    {
     "data": {
      "text/html": [
       "<div>\n",
       "<style scoped>\n",
       "    .dataframe tbody tr th:only-of-type {\n",
       "        vertical-align: middle;\n",
       "    }\n",
       "\n",
       "    .dataframe tbody tr th {\n",
       "        vertical-align: top;\n",
       "    }\n",
       "\n",
       "    .dataframe thead th {\n",
       "        text-align: right;\n",
       "    }\n",
       "</style>\n",
       "<table border=\"1\" class=\"dataframe\">\n",
       "  <thead>\n",
       "    <tr style=\"text-align: right;\">\n",
       "      <th></th>\n",
       "      <th>sl</th>\n",
       "      <th>sl_noloc</th>\n",
       "      <th>sl_nowith</th>\n",
       "      <th>inch</th>\n",
       "      <th>non_inch</th>\n",
       "      <th>there</th>\n",
       "      <th>non_there</th>\n",
       "      <th>dat_both</th>\n",
       "      <th>dative_to</th>\n",
       "      <th>dat_do</th>\n",
       "      <th>refl_op</th>\n",
       "      <th>refl_only</th>\n",
       "    </tr>\n",
       "    <tr>\n",
       "      <th>verb</th>\n",
       "      <th></th>\n",
       "      <th></th>\n",
       "      <th></th>\n",
       "      <th></th>\n",
       "      <th></th>\n",
       "      <th></th>\n",
       "      <th></th>\n",
       "      <th></th>\n",
       "      <th></th>\n",
       "      <th></th>\n",
       "      <th></th>\n",
       "      <th></th>\n",
       "    </tr>\n",
       "  </thead>\n",
       "  <tbody>\n",
       "    <tr>\n",
       "      <th>fed</th>\n",
       "      <td>0</td>\n",
       "      <td>0</td>\n",
       "      <td>0</td>\n",
       "      <td>0</td>\n",
       "      <td>1</td>\n",
       "      <td>0</td>\n",
       "      <td>1</td>\n",
       "      <td>1</td>\n",
       "      <td>0</td>\n",
       "      <td>0</td>\n",
       "      <td>0</td>\n",
       "      <td>0</td>\n",
       "    </tr>\n",
       "    <tr>\n",
       "      <th>served</th>\n",
       "      <td>0</td>\n",
       "      <td>0</td>\n",
       "      <td>0</td>\n",
       "      <td>0</td>\n",
       "      <td>x</td>\n",
       "      <td>0</td>\n",
       "      <td>x</td>\n",
       "      <td>1</td>\n",
       "      <td>0</td>\n",
       "      <td>0</td>\n",
       "      <td>0</td>\n",
       "      <td>0</td>\n",
       "    </tr>\n",
       "    <tr>\n",
       "      <th>gave</th>\n",
       "      <td>0</td>\n",
       "      <td>0</td>\n",
       "      <td>0</td>\n",
       "      <td>0</td>\n",
       "      <td>x</td>\n",
       "      <td>0</td>\n",
       "      <td>x</td>\n",
       "      <td>1</td>\n",
       "      <td>0</td>\n",
       "      <td>0</td>\n",
       "      <td>0</td>\n",
       "      <td>0</td>\n",
       "    </tr>\n",
       "    <tr>\n",
       "      <th>left</th>\n",
       "      <td>0</td>\n",
       "      <td>0</td>\n",
       "      <td>0</td>\n",
       "      <td>0</td>\n",
       "      <td>x</td>\n",
       "      <td>0</td>\n",
       "      <td>x</td>\n",
       "      <td>1</td>\n",
       "      <td>0</td>\n",
       "      <td>0</td>\n",
       "      <td>0</td>\n",
       "      <td>0</td>\n",
       "    </tr>\n",
       "    <tr>\n",
       "      <th>brought</th>\n",
       "      <td>0</td>\n",
       "      <td>0</td>\n",
       "      <td>0</td>\n",
       "      <td>0</td>\n",
       "      <td>x</td>\n",
       "      <td>0</td>\n",
       "      <td>x</td>\n",
       "      <td>1</td>\n",
       "      <td>0</td>\n",
       "      <td>0</td>\n",
       "      <td>0</td>\n",
       "      <td>0</td>\n",
       "    </tr>\n",
       "  </tbody>\n",
       "</table>\n",
       "</div>"
      ],
      "text/plain": [
       "        sl sl_noloc sl_nowith inch non_inch there non_there  dat_both  \\\n",
       "verb                                                                    \n",
       "fed      0        0         0    0        1     0         1         1   \n",
       "served   0        0         0    0        x     0         x         1   \n",
       "gave     0        0         0    0        x     0         x         1   \n",
       "left     0        0         0    0        x     0         x         1   \n",
       "brought  0        0         0    0        x     0         x         1   \n",
       "\n",
       "        dative_to  dat_do  refl_op  refl_only  \n",
       "verb                                           \n",
       "fed             0       0        0          0  \n",
       "served          0       0        0          0  \n",
       "gave            0       0        0          0  \n",
       "left            0       0        0          0  \n",
       "brought         0       0        0          0  "
      ]
     },
     "execution_count": 14,
     "metadata": {},
     "output_type": "execute_result"
    }
   ],
   "source": [
    "alternation.head()"
   ]
  },
  {
   "cell_type": "code",
   "execution_count": 15,
   "metadata": {
    "pycharm": {
     "name": "#%%\n"
    }
   },
   "outputs": [
    {
     "name": "stdout",
     "output_type": "stream",
     "text": [
      "<class 'pandas.core.frame.DataFrame'>\n",
      "Index: 516 entries, fed to pricked\n",
      "Data columns (total 12 columns):\n",
      " #   Column     Non-Null Count  Dtype \n",
      "---  ------     --------------  ----- \n",
      " 0   sl         516 non-null    object\n",
      " 1   sl_noloc   516 non-null    object\n",
      " 2   sl_nowith  516 non-null    object\n",
      " 3   inch       516 non-null    object\n",
      " 4   non_inch   516 non-null    object\n",
      " 5   there      516 non-null    object\n",
      " 6   non_there  516 non-null    object\n",
      " 7   dat_both   516 non-null    int64 \n",
      " 8   dative_to  516 non-null    object\n",
      " 9   dat_do     516 non-null    int64 \n",
      " 10  refl_op    516 non-null    int64 \n",
      " 11  refl_only  516 non-null    int64 \n",
      "dtypes: int64(4), object(8)\n",
      "memory usage: 52.4+ KB\n"
     ]
    }
   ],
   "source": [
    "alternation.info()"
   ]
  },
  {
   "cell_type": "code",
   "execution_count": 16,
   "metadata": {
    "pycharm": {
     "name": "#%%\n"
    }
   },
   "outputs": [
    {
     "name": "stdout",
     "output_type": "stream",
     "text": [
      "<class 'pandas.core.frame.DataFrame'>\n",
      "Index: 343 entries, fed to pricked\n",
      "Data columns (total 3 columns):\n",
      " #   Column     Non-Null Count  Dtype\n",
      "---  ------     --------------  -----\n",
      " 0   sl         343 non-null    int32\n",
      " 1   sl_noloc   343 non-null    int32\n",
      " 2   sl_nowith  343 non-null    int32\n",
      "dtypes: int32(3)\n",
      "memory usage: 6.7+ KB\n"
     ]
    }
   ],
   "source": [
    "sl_sub = alternation[(alternation['sl']!= 'x')& (alternation['sl_noloc']!='x')&(alternation['sl_nowith']!='x')].loc[:, 'sl': 'sl_nowith'].astype(int)\n",
    "sl_sub.info()"
   ]
  },
  {
   "cell_type": "code",
   "execution_count": 32,
   "metadata": {
    "pycharm": {
     "name": "#%%\n"
    }
   },
   "outputs": [
    {
     "name": "stdout",
     "output_type": "stream",
     "text": [
      "<class 'pandas.core.frame.DataFrame'>\n",
      "Index: 185 entries, fed to pricked\n",
      "Data columns (total 3 columns):\n",
      " #   Column     Non-Null Count  Dtype\n",
      "---  ------     --------------  -----\n",
      " 0   sl         185 non-null    int64\n",
      " 1   sl_noloc   185 non-null    int64\n",
      " 2   sl_nowith  185 non-null    int64\n",
      "dtypes: int64(3)\n",
      "memory usage: 5.8+ KB\n",
      "<class 'pandas.core.frame.DataFrame'>\n",
      "Index: 29 entries, crammed to scattered\n",
      "Data columns (total 3 columns):\n",
      " #   Column     Non-Null Count  Dtype\n",
      "---  ------     --------------  -----\n",
      " 0   sl         29 non-null     int64\n",
      " 1   sl_noloc   29 non-null     int64\n",
      " 2   sl_nowith  29 non-null     int64\n",
      "dtypes: int64(3)\n",
      "memory usage: 928.0+ bytes\n",
      "<class 'pandas.core.frame.DataFrame'>\n",
      "Index: 72 entries, soaked to blotted\n",
      "Data columns (total 3 columns):\n",
      " #   Column     Non-Null Count  Dtype\n",
      "---  ------     --------------  -----\n",
      " 0   sl         72 non-null     int64\n",
      " 1   sl_noloc   72 non-null     int64\n",
      " 2   sl_nowith  72 non-null     int64\n",
      "dtypes: int64(3)\n",
      "memory usage: 2.2+ KB\n",
      "<class 'pandas.core.frame.DataFrame'>\n",
      "Index: 57 entries, dropped to stood\n",
      "Data columns (total 3 columns):\n",
      " #   Column     Non-Null Count  Dtype\n",
      "---  ------     --------------  -----\n",
      " 0   sl         57 non-null     int64\n",
      " 1   sl_noloc   57 non-null     int64\n",
      " 2   sl_nowith  57 non-null     int64\n",
      "dtypes: int64(3)\n",
      "memory usage: 1.8+ KB\n"
     ]
    }
   ],
   "source": [
    "sl_sub[(sl_sub['sl']==0)&(sl_sub['sl_noloc']==0)&(sl_sub['sl_nowith']==0)].info()\n",
    "sl_sub[(sl_sub['sl']==1)].info()\n",
    "sl_sub[(sl_sub['sl_noloc']==1)].info()\n",
    "sl_sub[(sl_sub['sl_nowith']==1)].info()"
   ]
  },
  {
   "cell_type": "code",
   "execution_count": 33,
   "metadata": {
    "pycharm": {
     "name": "#%%\n"
    }
   },
   "outputs": [],
   "source": [
    "sl_sub.to_csv('./data/lava/sl.csv')"
   ]
  },
  {
   "cell_type": "code",
   "execution_count": 34,
   "metadata": {
    "pycharm": {
     "name": "#%%\n"
    }
   },
   "outputs": [
    {
     "name": "stdout",
     "output_type": "stream",
     "text": [
      "<class 'pandas.core.frame.DataFrame'>\n",
      "Index: 124 entries, fed to wasted\n",
      "Data columns (total 2 columns):\n",
      " #   Column    Non-Null Count  Dtype\n",
      "---  ------    --------------  -----\n",
      " 0   inch      124 non-null    int64\n",
      " 1   non_inch  124 non-null    int64\n",
      "dtypes: int64(2)\n",
      "memory usage: 2.9+ KB\n"
     ]
    }
   ],
   "source": [
    "inch = alternation[(alternation['inch']!= 'x')& (alternation['non_inch']!='x')].loc[:, 'inch': 'non_inch'].astype(int)\n",
    "inch.info()\n",
    "inch.to_csv('./data/lava/inch.csv')"
   ]
  },
  {
   "cell_type": "code",
   "execution_count": 35,
   "metadata": {
    "pycharm": {
     "name": "#%%\n"
    }
   },
   "outputs": [
    {
     "name": "stdout",
     "output_type": "stream",
     "text": [
      "<class 'pandas.core.frame.DataFrame'>\n",
      "Index: 73 entries, opened to worsened\n",
      "Data columns (total 2 columns):\n",
      " #   Column    Non-Null Count  Dtype\n",
      "---  ------    --------------  -----\n",
      " 0   inch      73 non-null     int64\n",
      " 1   non_inch  73 non-null     int64\n",
      "dtypes: int64(2)\n",
      "memory usage: 1.7+ KB\n",
      "<class 'pandas.core.frame.DataFrame'>\n",
      "Index: 51 entries, fed to wasted\n",
      "Data columns (total 2 columns):\n",
      " #   Column    Non-Null Count  Dtype\n",
      "---  ------    --------------  -----\n",
      " 0   inch      51 non-null     int64\n",
      " 1   non_inch  51 non-null     int64\n",
      "dtypes: int64(2)\n",
      "memory usage: 1.2+ KB\n"
     ]
    }
   ],
   "source": [
    "inch[(inch['inch']==1)].info()\n",
    "inch[(inch['non_inch']==1)].info()"
   ]
  },
  {
   "cell_type": "code",
   "execution_count": 36,
   "metadata": {
    "pycharm": {
     "name": "#%%\n"
    }
   },
   "outputs": [
    {
     "name": "stdout",
     "output_type": "stream",
     "text": [
      "<class 'pandas.core.frame.DataFrame'>\n",
      "Index: 149 entries, fed to adhered\n",
      "Data columns (total 2 columns):\n",
      " #   Column     Non-Null Count  Dtype\n",
      "---  ------     --------------  -----\n",
      " 0   there      149 non-null    int64\n",
      " 1   non_there  149 non-null    int64\n",
      "dtypes: int64(2)\n",
      "memory usage: 3.5+ KB\n",
      "<class 'pandas.core.frame.DataFrame'>\n",
      "Index: 50 entries, burst to followed\n",
      "Data columns (total 2 columns):\n",
      " #   Column     Non-Null Count  Dtype\n",
      "---  ------     --------------  -----\n",
      " 0   there      50 non-null     int64\n",
      " 1   non_there  50 non-null     int64\n",
      "dtypes: int64(2)\n",
      "memory usage: 1.2+ KB\n",
      "<class 'pandas.core.frame.DataFrame'>\n",
      "Index: 99 entries, fed to adhered\n",
      "Data columns (total 2 columns):\n",
      " #   Column     Non-Null Count  Dtype\n",
      "---  ------     --------------  -----\n",
      " 0   there      99 non-null     int64\n",
      " 1   non_there  99 non-null     int64\n",
      "dtypes: int64(2)\n",
      "memory usage: 2.3+ KB\n"
     ]
    }
   ],
   "source": [
    "there = alternation[(alternation['there']!= 'x')& (alternation['non_there']!='x')].loc[:, 'there': 'non_there'].astype(int)\n",
    "there.info()\n",
    "there[(there['there']==1)].info()\n",
    "there[(there['non_there'])==1].info()\n",
    "there.to_csv('./data/lava/there.csv')"
   ]
  },
  {
   "cell_type": "code",
   "execution_count": 37,
   "metadata": {
    "pycharm": {
     "name": "#%%\n"
    }
   },
   "outputs": [
    {
     "name": "stdout",
     "output_type": "stream",
     "text": [
      "<class 'pandas.core.frame.DataFrame'>\n",
      "Index: 442 entries, fed to adhered\n",
      "Data columns (total 3 columns):\n",
      " #   Column     Non-Null Count  Dtype\n",
      "---  ------     --------------  -----\n",
      " 0   dat_both   442 non-null    int64\n",
      " 1   dative_to  442 non-null    int64\n",
      " 2   dat_do     442 non-null    int64\n",
      "dtypes: int64(3)\n",
      "memory usage: 13.8+ KB\n",
      "<class 'pandas.core.frame.DataFrame'>\n",
      "Index: 41 entries, fed to showed\n",
      "Data columns (total 3 columns):\n",
      " #   Column     Non-Null Count  Dtype\n",
      "---  ------     --------------  -----\n",
      " 0   dat_both   41 non-null     int64\n",
      " 1   dative_to  41 non-null     int64\n",
      " 2   dat_do     41 non-null     int64\n",
      "dtypes: int64(3)\n",
      "memory usage: 1.3+ KB\n",
      "<class 'pandas.core.frame.DataFrame'>\n",
      "Index: 24 entries, addressed to broadcasted\n",
      "Data columns (total 3 columns):\n",
      " #   Column     Non-Null Count  Dtype\n",
      "---  ------     --------------  -----\n",
      " 0   dat_both   24 non-null     int64\n",
      " 1   dative_to  24 non-null     int64\n",
      " 2   dat_do     24 non-null     int64\n",
      "dtypes: int64(3)\n",
      "memory usage: 768.0+ bytes\n",
      "<class 'pandas.core.frame.DataFrame'>\n",
      "Index: 33 entries, cost to ruled\n",
      "Data columns (total 3 columns):\n",
      " #   Column     Non-Null Count  Dtype\n",
      "---  ------     --------------  -----\n",
      " 0   dat_both   33 non-null     int64\n",
      " 1   dative_to  33 non-null     int64\n",
      " 2   dat_do     33 non-null     int64\n",
      "dtypes: int64(3)\n",
      "memory usage: 1.0+ KB\n"
     ]
    }
   ],
   "source": [
    "dative = alternation[(alternation['dat_both']!= 'x')& (alternation['dative_to']!='x')&(alternation['dat_do']!='x')].loc[:, 'dat_both': 'dat_do'].astype(int)\n",
    "dative.info()\n",
    "dative[(dative['dat_both']==1)].info()\n",
    "dative[(dative['dative_to']==1)].info()\n",
    "dative[(dative['dat_do']==1)].info()\n",
    "dative.to_csv('./data/lava/dative.csv')"
   ]
  },
  {
   "cell_type": "code",
   "execution_count": 38,
   "metadata": {
    "pycharm": {
     "name": "#%%\n"
    }
   },
   "outputs": [
    {
     "name": "stdout",
     "output_type": "stream",
     "text": [
      "<class 'pandas.core.frame.DataFrame'>\n",
      "Index: 516 entries, fed to pricked\n",
      "Data columns (total 2 columns):\n",
      " #   Column     Non-Null Count  Dtype\n",
      "---  ------     --------------  -----\n",
      " 0   refl_op    516 non-null    int64\n",
      " 1   refl_only  516 non-null    int64\n",
      "dtypes: int64(2)\n",
      "memory usage: 12.1+ KB\n"
     ]
    }
   ],
   "source": [
    "refl = alternation[(alternation['refl_op']!= 'x')& (alternation['refl_only']!='x')].loc[:, 'refl_op': 'refl_only'].astype(int)\n",
    "refl.info()\n",
    "refl.to_csv('./data/lava/refl.csv')"
   ]
  },
  {
   "cell_type": "code",
   "execution_count": 39,
   "metadata": {
    "pycharm": {
     "name": "#%%\n"
    }
   },
   "outputs": [
    {
     "name": "stdout",
     "output_type": "stream",
     "text": [
      "<class 'pandas.core.frame.DataFrame'>\n",
      "Index: 13 entries, washed to shaved\n",
      "Data columns (total 2 columns):\n",
      " #   Column     Non-Null Count  Dtype\n",
      "---  ------     --------------  -----\n",
      " 0   refl_op    13 non-null     int64\n",
      " 1   refl_only  13 non-null     int64\n",
      "dtypes: int64(2)\n",
      "memory usage: 312.0+ bytes\n",
      "<class 'pandas.core.frame.DataFrame'>\n",
      "Index: 86 entries, showed to pricked\n",
      "Data columns (total 2 columns):\n",
      " #   Column     Non-Null Count  Dtype\n",
      "---  ------     --------------  -----\n",
      " 0   refl_op    86 non-null     int64\n",
      " 1   refl_only  86 non-null     int64\n",
      "dtypes: int64(2)\n",
      "memory usage: 2.0+ KB\n"
     ]
    }
   ],
   "source": [
    "refl[(refl['refl_op']==1)].info()\n",
    "refl[(refl['refl_only']==1)].info()\n"
   ]
  }
 ],
 "metadata": {
  "interpreter": {
   "hash": "e494e532438ff838811626b00e7875b31c54814775bb1ff657520b2b9ee00627"
  },
  "kernelspec": {
   "display_name": "PyCharm (ling-575-analyzing-nn-group)",
   "language": "python",
   "name": "python3"
  },
  "language_info": {
   "codemirror_mode": {
    "name": "ipython",
    "version": 3
   },
   "file_extension": ".py",
   "mimetype": "text/x-python",
   "name": "python",
   "nbconvert_exporter": "python",
   "pygments_lexer": "ipython3",
   "version": "3.9.12"
  }
 },
 "nbformat": 4,
 "nbformat_minor": 1
}
